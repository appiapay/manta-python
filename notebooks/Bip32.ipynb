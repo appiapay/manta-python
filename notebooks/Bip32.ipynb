{
 "cells": [
  {
   "cell_type": "code",
   "execution_count": 5,
   "metadata": {},
   "outputs": [],
   "source": [
    "from pycoin.key.key_from_text import key_from_text\n",
    "from pycoin.key import Key\n",
    "from pycoin.key.BIP32Node import BIP32Node"
   ]
  },
  {
   "cell_type": "code",
   "execution_count": 4,
   "metadata": {},
   "outputs": [
    {
     "data": {
      "text/plain": [
       "<xpub68aEVREZHhr6nvSJGwBVUyzjpvoUTvsPTgXuTyBzZd5ZhtVo4BJrd1dHoCKAVfANDz9WMQrbKTj3pyjp7uCq8otBcsoZZPmFY4eNEYUgaec>"
      ]
     },
     "execution_count": 4,
     "metadata": {},
     "output_type": "execute_result"
    }
   ],
   "source": [
    "mKey.from_text('xpub68aEVREZHhr6nvSJGwBVUyzjpvoUTvsPTgXuTyBzZd5ZhtVo4BJrd1dHoCKAVfANDz9WMQrbKTj3pyjp7uCq8otBcsoZZPmFY4eNEYUgaec')"
   ]
  },
  {
   "cell_type": "code",
   "execution_count": 17,
   "metadata": {},
   "outputs": [],
   "source": [
    "master=BIP32Node.from_text('xpub6DLJbt93Rui7cdCWApb6C6kbs9kSKfZWgqrc61EVwTttxytgaMEbBbPpfH85AtjmWDyizqxMk5xFPsjnxTwX7LsEFtMcbYwEsNacoKS5xZe')"
   ]
  },
  {
   "cell_type": "code",
   "execution_count": 24,
   "metadata": {},
   "outputs": [
    {
     "data": {
      "text/plain": [
       "<xpub6JhHnr8dboiqkMuk3tB42RLgbqrLKkK1M7Z8FQXQhT26MTne6ZJs8bnzD8UgkkySps7sCfEggD3y5kHBpJ6wQT2J1mgFbLRPvj9Mq5zFdXZ>"
      ]
     },
     "execution_count": 24,
     "metadata": {},
     "output_type": "execute_result"
    }
   ],
   "source": [
    "k1=master.subkey_for_path('0/0/0')\n",
    "k1"
   ]
  },
  {
   "cell_type": "code",
   "execution_count": 26,
   "metadata": {},
   "outputs": [
    {
     "data": {
      "text/plain": [
       "<xpub6L177fzsuBEWgJ3QseFe9p38MfbK3tQ31FEK8ZsKREEPFeHJzgUuRF24sLztCDoSfb5W1ksei59CkUY66To1M8Q66gU87m5DjkDKwz5fiBs>"
      ]
     },
     "execution_count": 26,
     "metadata": {},
     "output_type": "execute_result"
    }
   ],
   "source": [
    "Key.from_text('xpub6JhHnr8dboiqkMuk3tB42RLgbqrLKkK1M7Z8FQXQhT26MTne6ZJs8bnzD8UgkkySps7sCfEggD3y5kHBpJ6wQT2J1mgFbLRPvj9Mq5zFdXZ').subkey(0)"
   ]
  },
  {
   "cell_type": "code",
   "execution_count": 27,
   "metadata": {},
   "outputs": [
    {
     "data": {
      "text/plain": [
       "<xpub6L177fzsuBEWgJ3QseFe9p38MfbK3tQ31FEK8ZsKREEPFeHJzgUuRF24sLztCDoSfb5W1ksei59CkUY66To1M8Q66gU87m5DjkDKwz5fiBs>"
      ]
     },
     "execution_count": 27,
     "metadata": {},
     "output_type": "execute_result"
    }
   ],
   "source": [
    "master.subkey_for_path('0/0/0/0')"
   ]
  }
 ],
 "metadata": {
  "kernelspec": {
   "display_name": "Python 3",
   "language": "python",
   "name": "python3"
  },
  "language_info": {
   "codemirror_mode": {
    "name": "ipython",
    "version": 3
   },
   "file_extension": ".py",
   "mimetype": "text/x-python",
   "name": "python",
   "nbconvert_exporter": "python",
   "pygments_lexer": "ipython3",
   "version": "3.6.3"
  },
  "toc": {
   "nav_menu": {},
   "number_sections": true,
   "sideBar": true,
   "skip_h1_title": false,
   "toc_cell": false,
   "toc_position": {},
   "toc_section_display": "block",
   "toc_window_display": false
  }
 },
 "nbformat": 4,
 "nbformat_minor": 2
}
