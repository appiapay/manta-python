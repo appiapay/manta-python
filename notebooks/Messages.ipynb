{
 "cells": [
  {
   "cell_type": "code",
   "execution_count": 1,
   "metadata": {},
   "outputs": [],
   "source": [
    "import sys"
   ]
  },
  {
   "cell_type": "code",
   "execution_count": 2,
   "metadata": {},
   "outputs": [],
   "source": [
    "sys.path.insert(0, \"..\")"
   ]
  },
  {
   "cell_type": "code",
   "execution_count": 3,
   "metadata": {},
   "outputs": [],
   "source": [
    "from manta.messages import Destination, PaymentRequestMessage, verify_chain, PaymentMessage, AckMessage, Status, \\\n",
    "    Merchant, MerchantOrderRequestMessage\n",
    "from cryptography.hazmat.primitives.serialization import load_pem_private_key\n",
    "from cryptography.hazmat.backends import default_backend\n",
    "from decimal import Decimal"
   ]
  },
  {
   "cell_type": "code",
   "execution_count": 4,
   "metadata": {},
   "outputs": [],
   "source": [
    "MERCHANT = Merchant(\n",
    "    name=\"Merchant 1\",\n",
    "    address=\"5th Avenue\"\n",
    ")"
   ]
  },
  {
   "cell_type": "code",
   "execution_count": 5,
   "metadata": {},
   "outputs": [],
   "source": [
    "DESTINATIONS = [\n",
    "    Destination(\n",
    "        amount=\"5\",\n",
    "        destination_address=\"btc_daddress\",\n",
    "        crypto_currency=\"btc\"\n",
    "    ),\n",
    "    Destination(\n",
    "        amount=\"10\",\n",
    "        destination_address=\"nano_daddress\",\n",
    "        crypto_currency=\"nano\"\n",
    "    ),\n",
    "\n",
    "]"
   ]
  },
  {
   "cell_type": "code",
   "execution_count": 6,
   "metadata": {},
   "outputs": [],
   "source": [
    "PRIVATE_KEY = \"../certificates/root/keys/test.key\""
   ]
  },
  {
   "cell_type": "code",
   "execution_count": 7,
   "metadata": {},
   "outputs": [],
   "source": [
    "with open(PRIVATE_KEY, 'rb') as myfile:\n",
    "    key_data = myfile.read()\n",
    "\n",
    "    key = load_pem_private_key(key_data, password=None, backend=default_backend())\n",
    "\n",
    "    message = PaymentRequestMessage(\n",
    "        merchant=MERCHANT,\n",
    "        amount=\"10\",\n",
    "        fiat_currency=\"euro\",\n",
    "        destinations=DESTINATIONS,\n",
    "        supported_cryptos={'btc', 'xmr', 'nano'}\n",
    "\n",
    "    )"
   ]
  },
  {
   "cell_type": "code",
   "execution_count": 8,
   "metadata": {},
   "outputs": [
    {
     "data": {
      "text/plain": [
       "'{\"message\": \"{\\\\\"merchant\\\\\": {\\\\\"name\\\\\": \\\\\"Merchant 1\\\\\", \\\\\"address\\\\\": \\\\\"5th Avenue\\\\\"}, \\\\\"amount\\\\\": \\\\\"10\\\\\", \\\\\"fiat_currency\\\\\": \\\\\"euro\\\\\", \\\\\"destinations\\\\\": [{\\\\\"amount\\\\\": \\\\\"5\\\\\", \\\\\"destination_address\\\\\": \\\\\"btc_daddress\\\\\", \\\\\"crypto_currency\\\\\": \\\\\"btc\\\\\"}, {\\\\\"amount\\\\\": \\\\\"10\\\\\", \\\\\"destination_address\\\\\": \\\\\"nano_daddress\\\\\", \\\\\"crypto_currency\\\\\": \\\\\"nano\\\\\"}], \\\\\"supported_cryptos\\\\\": [\\\\\"xmr\\\\\", \\\\\"btc\\\\\", \\\\\"nano\\\\\"]}\", \"signature\": \"HgdmAEw2ztHWHYs0FMPUWusZiIN+TRwgYaAGycJ1rCcqrvP9Qo4VVwg1E1ZCqeEHHlmndrmVDY4//QH7g9cgsFohgK+qw5Zo3sv7pdxndOovhaAHrLmyU/WkNl+62QxVNMt6FkHxwDmzyyKtK84CygVpnuNLFKutTDTadUVsxJuHlPicKwhRBMilrURBfjguLo1BbSqmoiH8TnUGVMExjVhI5lSic3eYtd7SCxvRguw+CLF6IP0VCz3eOx7xBZvY75jAkYc82xA8z8PVy8yxn/hPpvqQguXep4ZWx2pvRtEQifmSGZZzQkzumsKg7NEGGC3E6zhhfuWwSFvlk3LeQg==\"}'"
      ]
     },
     "execution_count": 8,
     "metadata": {},
     "output_type": "execute_result"
    }
   ],
   "source": [
    "message.get_envelope(key).to_json()"
   ]
  },
  {
   "cell_type": "code",
   "execution_count": 9,
   "metadata": {},
   "outputs": [
    {
     "data": {
      "text/plain": [
       "'{\"crypto_currency\": \"nano\", \"transaction_hash\": \"hash1\"}'"
      ]
     },
     "execution_count": 9,
     "metadata": {},
     "output_type": "execute_result"
    }
   ],
   "source": [
    "PaymentMessage(crypto_currency=\"nano\", transaction_hash=\"hash1\").to_json()"
   ]
  },
  {
   "cell_type": "code",
   "execution_count": 10,
   "metadata": {},
   "outputs": [
    {
     "data": {
      "text/plain": [
       "'{\"txid\": \"0\", \"status\": \"pending\", \"url\": null, \"amount\": null, \"transaction_hash\": \"myhash\", \"transaction_currency\": null, \"memo\": null}'"
      ]
     },
     "execution_count": 10,
     "metadata": {},
     "output_type": "execute_result"
    }
   ],
   "source": [
    " AckMessage(\n",
    "        txid=\"0\",\n",
    "        transaction_hash=\"myhash\",\n",
    "        status=Status.PENDING\n",
    "    ).to_json()\n"
   ]
  },
  {
   "cell_type": "code",
   "execution_count": 11,
   "metadata": {},
   "outputs": [],
   "source": [
    "order =MerchantOrderRequestMessage(amount=Decimal(10), session_id=\"123\", fiat_currency=\"EUR\")"
   ]
  },
  {
   "cell_type": "code",
   "execution_count": 12,
   "metadata": {},
   "outputs": [],
   "source": [
    "import cattr"
   ]
  },
  {
   "cell_type": "code",
   "execution_count": 18,
   "metadata": {},
   "outputs": [],
   "source": [
    "from decimal import BasicContext, Context"
   ]
  },
  {
   "cell_type": "code",
   "execution_count": 28,
   "metadata": {},
   "outputs": [],
   "source": [
    "TWOPLACES = Decimal(10) ** -4  "
   ]
  },
  {
   "cell_type": "code",
   "execution_count": 31,
   "metadata": {},
   "outputs": [
    {
     "data": {
      "text/plain": [
       "Decimal('0.0493')"
      ]
     },
     "execution_count": 31,
     "metadata": {},
     "output_type": "execute_result"
    }
   ],
   "source": [
    "Decimal(\"0.04926108374384236453201970443\").quantize(Decimal(\"0.0001\"))"
   ]
  }
 ],
 "metadata": {
  "kernelspec": {
   "display_name": "Python 3",
   "language": "python",
   "name": "python3"
  },
  "language_info": {
   "codemirror_mode": {
    "name": "ipython",
    "version": 3
   },
   "file_extension": ".py",
   "mimetype": "text/x-python",
   "name": "python",
   "nbconvert_exporter": "python",
   "pygments_lexer": "ipython3",
   "version": "3.7.0"
  },
  "toc": {
   "nav_menu": {},
   "number_sections": true,
   "sideBar": true,
   "skip_h1_title": false,
   "toc_cell": false,
   "toc_position": {},
   "toc_section_display": "block",
   "toc_window_display": false
  },
  "pycharm": {
   "stem_cell": {
    "cell_type": "raw",
    "source": [],
    "metadata": {
     "collapsed": false
    }
   }
  }
 },
 "nbformat": 4,
 "nbformat_minor": 2
}